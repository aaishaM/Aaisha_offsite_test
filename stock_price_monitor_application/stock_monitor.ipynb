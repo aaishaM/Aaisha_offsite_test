{
 "cells": [
  {
   "cell_type": "code",
   "execution_count": 1,
   "id": "9469310b",
   "metadata": {},
   "outputs": [],
   "source": [
    "#import libraries\n",
    "import requests\n",
    "from bs4 import BeautifulSoup\n",
    "import pandas as pd\n",
    "import smtplib\n",
    "import os\n",
    "from email.mime.text import MIMEText\n",
    "from  email.mime.multipart import MIMEMultipart\n",
    "from dotenv import load_dotenv\n"
   ]
  },
  {
   "cell_type": "code",
   "execution_count": 2,
   "id": "d468f4b4",
   "metadata": {},
   "outputs": [],
   "source": [
    "\"\"\"Function to get stock price from provided URL using web scrapping\n",
    "    Returns current stock price\"\"\"\n",
    "\n",
    "def get_stock_price():\n",
    "    yahoo_url=\"https://finance.yahoo.com/quote/AAPL?p=AAPL\"\n",
    "    headers= {\"User-Agent\" : \"Mozilla/5.0\",\n",
    "                'Cache-Control': 'no-cache',\n",
    "                'Pragma' : 'no-cache'}\n",
    "    response= requests.get(yahoo_url,headers=headers)\n",
    "    soup = BeautifulSoup(response.text,'html.parser')\n",
    "    stock_price=soup.find('span',{'data-testid':'qsp-price'})\n",
    "\n",
    "    if stock_price:\n",
    "        sp_text=stock_price.text.strip()\n",
    "        return float(sp_text.replace(',',''))\n",
    "    else:\n",
    "        raise Exception(\"Stock price not found\")\n",
    "\n"
   ]
  },
  {
   "cell_type": "code",
   "execution_count": 3,
   "id": "d432e9e1",
   "metadata": {},
   "outputs": [],
   "source": [
    "\"\"\"Data Reconciliation:\n",
    "   Input Current Price dervied from the web page.\n",
    "   Returns previous price from csv, difference and change in percentage\"\"\"\n",
    "\n",
    "\n",
    "stock_csv=('data/stock_data.csv')\n",
    "\n",
    "def check_price_change(current_price):\n",
    "    df=pd.read_csv(stock_csv)\n",
    "\n",
    "    apple_price=df[df['Company']=='AAPL']['Price']\n",
    "    if apple_price.empty:\n",
    "        print(\"No previous records\")\n",
    "        return None,None,None\n",
    "\n",
    "    previous_price=float(apple_price.iloc[-1])\n",
    "    difference=current_price-previous_price\n",
    "    percent_change=(difference/previous_price)*100.\n",
    "    return previous_price,difference,percent_change\n",
    "\n"
   ]
  },
  {
   "cell_type": "code",
   "execution_count": 4,
   "id": "8d8ac15e",
   "metadata": {},
   "outputs": [],
   "source": [
    "\"\"\"Send Email with the change in stock price\"\"\"\n",
    "\n",
    "load_dotenv(override=True) \n",
    "\n",
    "EMAIL_SENDER= os.environ.get(\"EMAIL_SENDER\")\n",
    "EMAIL_RECEIVER=os.environ.get(\"EMAIL_RECEIVER\")\n",
    "EMAIL_PASSWORD=os.environ.get(\"EMAIL_PASSWORD\")\n",
    "\n",
    "SMTP_SERVER=\"smtp.gmail.com\"\n",
    "SMTP_PORT=587\n",
    "threshold=1.0\n",
    "\n",
    "def send_mail(current_price,previous_price,difference,percentage_change):\n",
    "\n",
    "    subject= f\"Apple Products Stock Price Change Alert\"\n",
    "    body = f\"\"\"Stock Price Change Triggered:\n",
    "    Current Price : ${current_price:.2f}\n",
    "    Previous Price : ${previous_price:.2f}\n",
    "    Amount Changed : ${difference:.2f}\n",
    "    \"\"\"\n",
    "    msg=MIMEMultipart()\n",
    "    msg['From'] = EMAIL_SENDER\n",
    "    msg['To'] = EMAIL_RECEIVER\n",
    "    msg['Subject']=subject\n",
    "    msg.attach(MIMEText(body,'plain'))\n",
    "\n",
    "    try:\n",
    "        with smtplib.SMTP(SMTP_SERVER,SMTP_PORT) as server:\n",
    "            server.starttls()\n",
    "            server.login(EMAIL_SENDER,EMAIL_PASSWORD)\n",
    "            server.send_message(msg)\n",
    "            print(\"Email Sent\")\n",
    "    except Exception as e:\n",
    "        print(f\"Failed to send mail : {e}\")\n",
    "\n"
   ]
  },
  {
   "cell_type": "code",
   "execution_count": 5,
   "id": "e7faf1df",
   "metadata": {},
   "outputs": [
    {
     "name": "stdout",
     "output_type": "stream",
     "text": [
      "Current Price : $ 201.50\n",
      "Previous Price : $ 190.25\n",
      "Price Difference : $ 11.25\n",
      "Percentage of Difference : 5.91 %\n",
      "Email Sent\n"
     ]
    }
   ],
   "source": [
    "\"\"\"Main Function\n",
    "    Prints Current price, previous price, difference, and percentage of change\n",
    "    Checks against predefined threshold and sends email if percentage of change is higher than threshold\"\"\"\n",
    "\n",
    "threshold_percent=1.0\n",
    "def main():\n",
    "    try:\n",
    "        current_price= get_stock_price()\n",
    "        prev_price, diff, per_diff = check_price_change(current_price)\n",
    "        \n",
    "        print(f\"Current Price : $ {current_price:.2f}\")\n",
    "        print(f\"Previous Price : $ {prev_price:.2f}\")\n",
    "        print(f\"Price Difference : $ {diff:.2f}\")\n",
    "        print(f\"Percentage of Difference : {per_diff:.2f} %\")\n",
    "\n",
    "        if per_diff>threshold_percent:\n",
    "            send_mail(current_price,prev_price,diff,per_diff)\n",
    "        else:\n",
    "            print(\"Change did not exceed threshold value. Email not sent.\")\n",
    "\n",
    "\n",
    "    except Exception as e:\n",
    "        print(f\"Error : {e}\")\n",
    "main()"
   ]
  }
 ],
 "metadata": {
  "kernelspec": {
   "display_name": "Python 3",
   "language": "python",
   "name": "python3"
  },
  "language_info": {
   "codemirror_mode": {
    "name": "ipython",
    "version": 3
   },
   "file_extension": ".py",
   "mimetype": "text/x-python",
   "name": "python",
   "nbconvert_exporter": "python",
   "pygments_lexer": "ipython3",
   "version": "3.11.9"
  }
 },
 "nbformat": 4,
 "nbformat_minor": 5
}
