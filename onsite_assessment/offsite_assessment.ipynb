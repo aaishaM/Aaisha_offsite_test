{
 "cells": [
  {
   "cell_type": "code",
   "execution_count": 1,
   "id": "16808c3b",
   "metadata": {},
   "outputs": [],
   "source": [
    "import pandas as pd"
   ]
  },
  {
   "cell_type": "code",
   "execution_count": null,
   "id": "ede0cf27",
   "metadata": {},
   "outputs": [],
   "source": [
    "df_product=pd.read_csv('product_info.csv')\n",
    "df_sales=pd.read_csv('retail_sales.csv')\n",
    "df_store=pd.read_csv('store_details.csv')\n",
    "\n"
   ]
  },
  {
   "cell_type": "code",
   "execution_count": 14,
   "id": "6ccafe3a",
   "metadata": {},
   "outputs": [
    {
     "name": "stdout",
     "output_type": "stream",
     "text": [
      "<class 'pandas.core.frame.DataFrame'>\n",
      "RangeIndex: 10 entries, 0 to 9\n",
      "Data columns (total 3 columns):\n",
      " #   Column        Non-Null Count  Dtype \n",
      "---  ------        --------------  ----- \n",
      " 0   Product_ID    10 non-null     int64 \n",
      " 1   Product_Name  10 non-null     object\n",
      " 2   Category      10 non-null     object\n",
      "dtypes: int64(1), object(2)\n",
      "memory usage: 372.0+ bytes\n"
     ]
    },
    {
     "data": {
      "text/plain": [
       "Product_ID      0\n",
       "Product_Name    0\n",
       "Category        0\n",
       "dtype: int64"
      ]
     },
     "execution_count": 14,
     "metadata": {},
     "output_type": "execute_result"
    }
   ],
   "source": [
    "df_product.head\n",
    "df_product.info()\n",
    "df_product.isnull().sum()\n",
    "\n",
    "#No missing values found. Hence, handling of missing values is not necessary"
   ]
  },
  {
   "cell_type": "code",
   "execution_count": 15,
   "id": "6b340499",
   "metadata": {},
   "outputs": [
    {
     "name": "stdout",
     "output_type": "stream",
     "text": [
      "<class 'pandas.core.frame.DataFrame'>\n",
      "RangeIndex: 500 entries, 0 to 499\n",
      "Data columns (total 6 columns):\n",
      " #   Column            Non-Null Count  Dtype  \n",
      "---  ------            --------------  -----  \n",
      " 0   Transaction_ID    500 non-null    int64  \n",
      " 1   Transaction_Date  500 non-null    object \n",
      " 2   Product_ID        500 non-null    int64  \n",
      " 3   Store_ID          500 non-null    int64  \n",
      " 4   Quantity          500 non-null    int64  \n",
      " 5   Unit_Price        500 non-null    float64\n",
      "dtypes: float64(1), int64(4), object(1)\n",
      "memory usage: 23.6+ KB\n"
     ]
    },
    {
     "data": {
      "text/plain": [
       "Transaction_ID      0\n",
       "Transaction_Date    0\n",
       "Product_ID          0\n",
       "Store_ID            0\n",
       "Quantity            0\n",
       "Unit_Price          0\n",
       "dtype: int64"
      ]
     },
     "execution_count": 15,
     "metadata": {},
     "output_type": "execute_result"
    }
   ],
   "source": [
    "df_sales.head\n",
    "df_sales.info()\n",
    "df_sales.isnull().sum()\n",
    "\n",
    "#No missing values found. Hence, handling of missing values is not necessary"
   ]
  },
  {
   "cell_type": "code",
   "execution_count": 16,
   "id": "4ccbee24",
   "metadata": {},
   "outputs": [
    {
     "name": "stdout",
     "output_type": "stream",
     "text": [
      "<class 'pandas.core.frame.DataFrame'>\n",
      "RangeIndex: 10 entries, 0 to 9\n",
      "Data columns (total 3 columns):\n",
      " #   Column      Non-Null Count  Dtype \n",
      "---  ------      --------------  ----- \n",
      " 0   Store_ID    10 non-null     int64 \n",
      " 1   Store_Name  10 non-null     object\n",
      " 2   Country     10 non-null     object\n",
      "dtypes: int64(1), object(2)\n",
      "memory usage: 372.0+ bytes\n"
     ]
    },
    {
     "data": {
      "text/plain": [
       "Store_ID      0\n",
       "Store_Name    0\n",
       "Country       0\n",
       "dtype: int64"
      ]
     },
     "execution_count": 16,
     "metadata": {},
     "output_type": "execute_result"
    }
   ],
   "source": [
    "df_store.head\n",
    "df_store.info()\n",
    "df_store.isnull().sum()\n",
    "\n",
    "#No missing values found. Hence, handling of missing values is not necessary\n"
   ]
  },
  {
   "cell_type": "code",
   "execution_count": 13,
   "id": "c5af0b29",
   "metadata": {},
   "outputs": [],
   "source": [
    "df_product.drop_duplicates(inplace=True)\n",
    "df_sales.drop_duplicates(inplace=True)\n",
    "df_store.drop_duplicates(inplace=True)"
   ]
  },
  {
   "cell_type": "code",
   "execution_count": 17,
   "id": "563a6285",
   "metadata": {},
   "outputs": [
    {
     "data": {
      "text/html": [
       "<div>\n",
       "<style scoped>\n",
       "    .dataframe tbody tr th:only-of-type {\n",
       "        vertical-align: middle;\n",
       "    }\n",
       "\n",
       "    .dataframe tbody tr th {\n",
       "        vertical-align: top;\n",
       "    }\n",
       "\n",
       "    .dataframe thead th {\n",
       "        text-align: right;\n",
       "    }\n",
       "</style>\n",
       "<table border=\"1\" class=\"dataframe\">\n",
       "  <thead>\n",
       "    <tr style=\"text-align: right;\">\n",
       "      <th></th>\n",
       "      <th>Product_ID</th>\n",
       "    </tr>\n",
       "  </thead>\n",
       "  <tbody>\n",
       "    <tr>\n",
       "      <th>count</th>\n",
       "      <td>10.00000</td>\n",
       "    </tr>\n",
       "    <tr>\n",
       "      <th>mean</th>\n",
       "      <td>1004.50000</td>\n",
       "    </tr>\n",
       "    <tr>\n",
       "      <th>std</th>\n",
       "      <td>3.02765</td>\n",
       "    </tr>\n",
       "    <tr>\n",
       "      <th>min</th>\n",
       "      <td>1000.00000</td>\n",
       "    </tr>\n",
       "    <tr>\n",
       "      <th>25%</th>\n",
       "      <td>1002.25000</td>\n",
       "    </tr>\n",
       "    <tr>\n",
       "      <th>50%</th>\n",
       "      <td>1004.50000</td>\n",
       "    </tr>\n",
       "    <tr>\n",
       "      <th>75%</th>\n",
       "      <td>1006.75000</td>\n",
       "    </tr>\n",
       "    <tr>\n",
       "      <th>max</th>\n",
       "      <td>1009.00000</td>\n",
       "    </tr>\n",
       "  </tbody>\n",
       "</table>\n",
       "</div>"
      ],
      "text/plain": [
       "       Product_ID\n",
       "count    10.00000\n",
       "mean   1004.50000\n",
       "std       3.02765\n",
       "min    1000.00000\n",
       "25%    1002.25000\n",
       "50%    1004.50000\n",
       "75%    1006.75000\n",
       "max    1009.00000"
      ]
     },
     "execution_count": 17,
     "metadata": {},
     "output_type": "execute_result"
    }
   ],
   "source": [
    "df_product.describe()"
   ]
  },
  {
   "cell_type": "code",
   "execution_count": 18,
   "id": "36c994b3",
   "metadata": {},
   "outputs": [
    {
     "data": {
      "text/html": [
       "<div>\n",
       "<style scoped>\n",
       "    .dataframe tbody tr th:only-of-type {\n",
       "        vertical-align: middle;\n",
       "    }\n",
       "\n",
       "    .dataframe tbody tr th {\n",
       "        vertical-align: top;\n",
       "    }\n",
       "\n",
       "    .dataframe thead th {\n",
       "        text-align: right;\n",
       "    }\n",
       "</style>\n",
       "<table border=\"1\" class=\"dataframe\">\n",
       "  <thead>\n",
       "    <tr style=\"text-align: right;\">\n",
       "      <th></th>\n",
       "      <th>Transaction_ID</th>\n",
       "      <th>Product_ID</th>\n",
       "      <th>Store_ID</th>\n",
       "      <th>Quantity</th>\n",
       "      <th>Unit_Price</th>\n",
       "    </tr>\n",
       "  </thead>\n",
       "  <tbody>\n",
       "    <tr>\n",
       "      <th>count</th>\n",
       "      <td>500.000000</td>\n",
       "      <td>500.000000</td>\n",
       "      <td>500.000000</td>\n",
       "      <td>500.000000</td>\n",
       "      <td>500.000000</td>\n",
       "    </tr>\n",
       "    <tr>\n",
       "      <th>mean</th>\n",
       "      <td>250.500000</td>\n",
       "      <td>1004.430000</td>\n",
       "      <td>5.466000</td>\n",
       "      <td>10.064000</td>\n",
       "      <td>52.479500</td>\n",
       "    </tr>\n",
       "    <tr>\n",
       "      <th>std</th>\n",
       "      <td>144.481833</td>\n",
       "      <td>2.941156</td>\n",
       "      <td>2.885393</td>\n",
       "      <td>5.520585</td>\n",
       "      <td>26.176497</td>\n",
       "    </tr>\n",
       "    <tr>\n",
       "      <th>min</th>\n",
       "      <td>1.000000</td>\n",
       "      <td>1000.000000</td>\n",
       "      <td>1.000000</td>\n",
       "      <td>1.000000</td>\n",
       "      <td>5.030000</td>\n",
       "    </tr>\n",
       "    <tr>\n",
       "      <th>25%</th>\n",
       "      <td>125.750000</td>\n",
       "      <td>1002.000000</td>\n",
       "      <td>3.000000</td>\n",
       "      <td>5.000000</td>\n",
       "      <td>29.372500</td>\n",
       "    </tr>\n",
       "    <tr>\n",
       "      <th>50%</th>\n",
       "      <td>250.500000</td>\n",
       "      <td>1004.000000</td>\n",
       "      <td>5.000000</td>\n",
       "      <td>10.000000</td>\n",
       "      <td>54.230000</td>\n",
       "    </tr>\n",
       "    <tr>\n",
       "      <th>75%</th>\n",
       "      <td>375.250000</td>\n",
       "      <td>1007.000000</td>\n",
       "      <td>8.000000</td>\n",
       "      <td>15.000000</td>\n",
       "      <td>73.822500</td>\n",
       "    </tr>\n",
       "    <tr>\n",
       "      <th>max</th>\n",
       "      <td>500.000000</td>\n",
       "      <td>1009.000000</td>\n",
       "      <td>10.000000</td>\n",
       "      <td>19.000000</td>\n",
       "      <td>99.570000</td>\n",
       "    </tr>\n",
       "  </tbody>\n",
       "</table>\n",
       "</div>"
      ],
      "text/plain": [
       "       Transaction_ID   Product_ID    Store_ID    Quantity  Unit_Price\n",
       "count      500.000000   500.000000  500.000000  500.000000  500.000000\n",
       "mean       250.500000  1004.430000    5.466000   10.064000   52.479500\n",
       "std        144.481833     2.941156    2.885393    5.520585   26.176497\n",
       "min          1.000000  1000.000000    1.000000    1.000000    5.030000\n",
       "25%        125.750000  1002.000000    3.000000    5.000000   29.372500\n",
       "50%        250.500000  1004.000000    5.000000   10.000000   54.230000\n",
       "75%        375.250000  1007.000000    8.000000   15.000000   73.822500\n",
       "max        500.000000  1009.000000   10.000000   19.000000   99.570000"
      ]
     },
     "execution_count": 18,
     "metadata": {},
     "output_type": "execute_result"
    }
   ],
   "source": [
    "df_sales.describe()"
   ]
  },
  {
   "cell_type": "code",
   "execution_count": 19,
   "id": "22ed81ea",
   "metadata": {},
   "outputs": [
    {
     "data": {
      "text/html": [
       "<div>\n",
       "<style scoped>\n",
       "    .dataframe tbody tr th:only-of-type {\n",
       "        vertical-align: middle;\n",
       "    }\n",
       "\n",
       "    .dataframe tbody tr th {\n",
       "        vertical-align: top;\n",
       "    }\n",
       "\n",
       "    .dataframe thead th {\n",
       "        text-align: right;\n",
       "    }\n",
       "</style>\n",
       "<table border=\"1\" class=\"dataframe\">\n",
       "  <thead>\n",
       "    <tr style=\"text-align: right;\">\n",
       "      <th></th>\n",
       "      <th>Store_ID</th>\n",
       "    </tr>\n",
       "  </thead>\n",
       "  <tbody>\n",
       "    <tr>\n",
       "      <th>count</th>\n",
       "      <td>10.00000</td>\n",
       "    </tr>\n",
       "    <tr>\n",
       "      <th>mean</th>\n",
       "      <td>5.50000</td>\n",
       "    </tr>\n",
       "    <tr>\n",
       "      <th>std</th>\n",
       "      <td>3.02765</td>\n",
       "    </tr>\n",
       "    <tr>\n",
       "      <th>min</th>\n",
       "      <td>1.00000</td>\n",
       "    </tr>\n",
       "    <tr>\n",
       "      <th>25%</th>\n",
       "      <td>3.25000</td>\n",
       "    </tr>\n",
       "    <tr>\n",
       "      <th>50%</th>\n",
       "      <td>5.50000</td>\n",
       "    </tr>\n",
       "    <tr>\n",
       "      <th>75%</th>\n",
       "      <td>7.75000</td>\n",
       "    </tr>\n",
       "    <tr>\n",
       "      <th>max</th>\n",
       "      <td>10.00000</td>\n",
       "    </tr>\n",
       "  </tbody>\n",
       "</table>\n",
       "</div>"
      ],
      "text/plain": [
       "       Store_ID\n",
       "count  10.00000\n",
       "mean    5.50000\n",
       "std     3.02765\n",
       "min     1.00000\n",
       "25%     3.25000\n",
       "50%     5.50000\n",
       "75%     7.75000\n",
       "max    10.00000"
      ]
     },
     "execution_count": 19,
     "metadata": {},
     "output_type": "execute_result"
    }
   ],
   "source": [
    "df_store.describe()"
   ]
  },
  {
   "cell_type": "code",
   "execution_count": null,
   "id": "127ea1da",
   "metadata": {},
   "outputs": [
    {
     "data": {
      "text/plain": [
       "<bound method NDFrame.head of      Transaction_ID Transaction_Date  Product_ID  Store_ID  Quantity  \\\n",
       "0                 1       2023-11-24        1006         9         1   \n",
       "1                 2       2023-02-27        1003         1        15   \n",
       "2                 3       2023-01-13        1007         1         8   \n",
       "3                 4       2023-05-21        1004         4        11   \n",
       "4                 5       2023-05-06        1006         9        12   \n",
       "..              ...              ...         ...       ...       ...   \n",
       "495             496       2023-12-14        1000        10        15   \n",
       "496             497       2023-10-02        1006        10        11   \n",
       "497             498       2023-06-19        1006         8         2   \n",
       "498             499       2023-01-15        1008         2        15   \n",
       "499             500       2023-03-01        1002         9        14   \n",
       "\n",
       "     Unit_Price  Product_Name     Category  \n",
       "0         26.86  Product_1006  Electronics  \n",
       "1         17.48  Product_1003    Groceries  \n",
       "2         87.47  Product_1007  Electronics  \n",
       "3         96.51  Product_1004  Electronics  \n",
       "4          7.97  Product_1006  Electronics  \n",
       "..          ...           ...          ...  \n",
       "495       23.22  Product_1000    Groceries  \n",
       "496       25.12  Product_1006  Electronics  \n",
       "497       51.04  Product_1006  Electronics  \n",
       "498       76.65  Product_1008     Clothing  \n",
       "499       63.85  Product_1002    Groceries  \n",
       "\n",
       "[500 rows x 8 columns]>"
      ]
     },
     "execution_count": 24,
     "metadata": {},
     "output_type": "execute_result"
    }
   ],
   "source": [
    "#Left join used to ensure that all transactions are maintained and are linked to the suitable product details\n",
    "df_combined=pd.merge(df_sales, df_product,how='left')\n",
    "df_combined.head\n"
   ]
  },
  {
   "cell_type": "code",
   "execution_count": null,
   "id": "7dc45cf6",
   "metadata": {},
   "outputs": [
    {
     "data": {
      "text/plain": [
       "<bound method NDFrame.head of      Transaction_ID Transaction_Date  Product_ID  Store_ID  Quantity  \\\n",
       "0                 1       2023-11-24        1006         9         1   \n",
       "1                 2       2023-02-27        1003         1        15   \n",
       "2                 3       2023-01-13        1007         1         8   \n",
       "3                 4       2023-05-21        1004         4        11   \n",
       "4                 5       2023-05-06        1006         9        12   \n",
       "..              ...              ...         ...       ...       ...   \n",
       "495             496       2023-12-14        1000        10        15   \n",
       "496             497       2023-10-02        1006        10        11   \n",
       "497             498       2023-06-19        1006         8         2   \n",
       "498             499       2023-01-15        1008         2        15   \n",
       "499             500       2023-03-01        1002         9        14   \n",
       "\n",
       "     Unit_Price  Product_Name     Category Store_Name Country  \n",
       "0         26.86  Product_1006  Electronics    Store_9      UK  \n",
       "1         17.48  Product_1003    Groceries    Store_1  Canada  \n",
       "2         87.47  Product_1007  Electronics    Store_1  Canada  \n",
       "3         96.51  Product_1004  Electronics    Store_4  Canada  \n",
       "4          7.97  Product_1006  Electronics    Store_9      UK  \n",
       "..          ...           ...          ...        ...     ...  \n",
       "495       23.22  Product_1000    Groceries   Store_10  Canada  \n",
       "496       25.12  Product_1006  Electronics   Store_10  Canada  \n",
       "497       51.04  Product_1006  Electronics    Store_8     USA  \n",
       "498       76.65  Product_1008     Clothing    Store_2  Canada  \n",
       "499       63.85  Product_1002    Groceries    Store_9      UK  \n",
       "\n",
       "[500 rows x 10 columns]>"
      ]
     },
     "execution_count": 25,
     "metadata": {},
     "output_type": "execute_result"
    }
   ],
   "source": [
    "#Left join used to ensure that all transactions are maintained and are linked to the suitable store details\n",
    "df_combined=pd.merge(df_combined, df_store,how='left')\n",
    "df_combined.head\n"
   ]
  },
  {
   "cell_type": "code",
   "execution_count": 27,
   "id": "a395a579",
   "metadata": {},
   "outputs": [
    {
     "name": "stdout",
     "output_type": "stream",
     "text": [
      "0       1\n",
      "1      15\n",
      "2       8\n",
      "3      11\n",
      "4      12\n",
      "       ..\n",
      "495    15\n",
      "496    11\n",
      "497     2\n",
      "498    15\n",
      "499    14\n",
      "Name: Quantity, Length: 500, dtype: int64 0      26.86\n",
      "1      17.48\n",
      "2      87.47\n",
      "3      96.51\n",
      "4       7.97\n",
      "       ...  \n",
      "495    23.22\n",
      "496    25.12\n",
      "497    51.04\n",
      "498    76.65\n",
      "499    63.85\n",
      "Name: Unit_Price, Length: 500, dtype: float64 0        26.86\n",
      "1       262.20\n",
      "2       699.76\n",
      "3      1061.61\n",
      "4        95.64\n",
      "        ...   \n",
      "495     348.30\n",
      "496     276.32\n",
      "497     102.08\n",
      "498    1149.75\n",
      "499     893.90\n",
      "Name: Total Sale, Length: 500, dtype: float64\n"
     ]
    }
   ],
   "source": [
    "df_combined['Total Sale']=df_combined['Quantity']*df_combined['Unit_Price']\n",
    "print(df_combined['Quantity'],df_combined['Unit_Price'],df_combined['Total Sale'])\n"
   ]
  },
  {
   "cell_type": "code",
   "execution_count": 33,
   "id": "e4481cf3",
   "metadata": {},
   "outputs": [],
   "source": [
    "df_combined['Transaction']=pd.to_datetime(df_combined['Transaction_Date'])\n",
    "df_combined['Year']=df_combined['Transaction'].dt.year\n",
    "df_combined['Month']=df_combined['Transaction'].dt.month\n",
    "df_combined['Day']=df_combined['Transaction'].dt.day\n"
   ]
  },
  {
   "cell_type": "code",
   "execution_count": 35,
   "id": "e255ae35",
   "metadata": {},
   "outputs": [
    {
     "data": {
      "text/plain": [
       "Transaction_ID               int64\n",
       "Transaction_Date            object\n",
       "Product_ID                   int64\n",
       "Store_ID                     int64\n",
       "Quantity                     int64\n",
       "Unit_Price                 float64\n",
       "Product_Name                object\n",
       "Category                    object\n",
       "Store_Name                  object\n",
       "Country                     object\n",
       "Total Sale                 float64\n",
       "Transaction         datetime64[ns]\n",
       "Year                         int32\n",
       "Month                        int32\n",
       "Day                          int32\n",
       "dtype: object"
      ]
     },
     "execution_count": 35,
     "metadata": {},
     "output_type": "execute_result"
    }
   ],
   "source": [
    "df_combined.dtypes"
   ]
  },
  {
   "cell_type": "code",
   "execution_count": null,
   "id": "6f266762",
   "metadata": {},
   "outputs": [
    {
     "name": "stdout",
     "output_type": "stream",
     "text": [
      "<bound method GroupBy.mean of <pandas.core.groupby.generic.DataFrameGroupBy object at 0x0000011E092F5F90>>\n"
     ]
    }
   ],
   "source": [
    "print(df_combined.groupby(\"Country\")[['Total Sale']])"
   ]
  },
  {
   "cell_type": "code",
   "execution_count": 44,
   "id": "aeb7eef4",
   "metadata": {},
   "outputs": [
    {
     "name": "stdout",
     "output_type": "stream",
     "text": [
      "<bound method GroupBy.mean of <pandas.core.groupby.generic.DataFrameGroupBy object at 0x0000011E08171CD0>>\n"
     ]
    }
   ],
   "source": [
    "print(df_combined.groupby(\"Country\")[['Quantity']].mean)"
   ]
  },
  {
   "cell_type": "code",
   "execution_count": 42,
   "id": "63b39503",
   "metadata": {},
   "outputs": [
    {
     "name": "stdout",
     "output_type": "stream",
     "text": [
      "<bound method DataFrameGroupBy.value_counts of <pandas.core.groupby.generic.DataFrameGroupBy object at 0x0000011E08C79150>>\n"
     ]
    }
   ],
   "source": [
    "print(df_combined.groupby(\"Country\")[['Transaction_ID']].value_counts)"
   ]
  },
  {
   "cell_type": "code",
   "execution_count": 43,
   "id": "43ecd5f7",
   "metadata": {},
   "outputs": [],
   "source": [
    "df_combined.to_csv('final_sales_data.csv')"
   ]
  },
  {
   "cell_type": "code",
   "execution_count": 47,
   "id": "e71bdd3a",
   "metadata": {},
   "outputs": [],
   "source": [
    "#Function to Return top 5 products by country\n",
    "def top_5_products_by_country(df):\n",
    "    n=5\n",
    "\n",
    "    product_sales_per_country=df.groupby(['Country', 'Product_ID'])['Total Sale'].sum().reset_index()\n",
    "    product_sales_per_country = product_sales_per_country.sort_values(\n",
    "        by=['Country', 'Total Sale'], ascending=[True, False]\n",
    "    )\n",
    "    top_n_products = product_sales_per_country.groupby('Country').head(n)\n",
    "\n",
    "    return top_n_products\n"
   ]
  },
  {
   "cell_type": "code",
   "execution_count": 48,
   "id": "a9357d7c",
   "metadata": {},
   "outputs": [
    {
     "data": {
      "text/html": [
       "<div>\n",
       "<style scoped>\n",
       "    .dataframe tbody tr th:only-of-type {\n",
       "        vertical-align: middle;\n",
       "    }\n",
       "\n",
       "    .dataframe tbody tr th {\n",
       "        vertical-align: top;\n",
       "    }\n",
       "\n",
       "    .dataframe thead th {\n",
       "        text-align: right;\n",
       "    }\n",
       "</style>\n",
       "<table border=\"1\" class=\"dataframe\">\n",
       "  <thead>\n",
       "    <tr style=\"text-align: right;\">\n",
       "      <th></th>\n",
       "      <th>Country</th>\n",
       "      <th>Product_ID</th>\n",
       "      <th>Total Sale</th>\n",
       "    </tr>\n",
       "  </thead>\n",
       "  <tbody>\n",
       "    <tr>\n",
       "      <th>1</th>\n",
       "      <td>Canada</td>\n",
       "      <td>1001</td>\n",
       "      <td>15729.05</td>\n",
       "    </tr>\n",
       "    <tr>\n",
       "      <th>6</th>\n",
       "      <td>Canada</td>\n",
       "      <td>1006</td>\n",
       "      <td>15256.10</td>\n",
       "    </tr>\n",
       "    <tr>\n",
       "      <th>7</th>\n",
       "      <td>Canada</td>\n",
       "      <td>1007</td>\n",
       "      <td>14632.13</td>\n",
       "    </tr>\n",
       "    <tr>\n",
       "      <th>0</th>\n",
       "      <td>Canada</td>\n",
       "      <td>1000</td>\n",
       "      <td>14488.78</td>\n",
       "    </tr>\n",
       "    <tr>\n",
       "      <th>4</th>\n",
       "      <td>Canada</td>\n",
       "      <td>1004</td>\n",
       "      <td>13562.32</td>\n",
       "    </tr>\n",
       "    <tr>\n",
       "      <th>10</th>\n",
       "      <td>UK</td>\n",
       "      <td>1000</td>\n",
       "      <td>4162.93</td>\n",
       "    </tr>\n",
       "    <tr>\n",
       "      <th>12</th>\n",
       "      <td>UK</td>\n",
       "      <td>1002</td>\n",
       "      <td>3267.72</td>\n",
       "    </tr>\n",
       "    <tr>\n",
       "      <th>19</th>\n",
       "      <td>UK</td>\n",
       "      <td>1009</td>\n",
       "      <td>2707.08</td>\n",
       "    </tr>\n",
       "    <tr>\n",
       "      <th>18</th>\n",
       "      <td>UK</td>\n",
       "      <td>1008</td>\n",
       "      <td>2296.36</td>\n",
       "    </tr>\n",
       "    <tr>\n",
       "      <th>14</th>\n",
       "      <td>UK</td>\n",
       "      <td>1004</td>\n",
       "      <td>2293.45</td>\n",
       "    </tr>\n",
       "    <tr>\n",
       "      <th>22</th>\n",
       "      <td>USA</td>\n",
       "      <td>1002</td>\n",
       "      <td>18777.45</td>\n",
       "    </tr>\n",
       "    <tr>\n",
       "      <th>27</th>\n",
       "      <td>USA</td>\n",
       "      <td>1007</td>\n",
       "      <td>14746.72</td>\n",
       "    </tr>\n",
       "    <tr>\n",
       "      <th>23</th>\n",
       "      <td>USA</td>\n",
       "      <td>1003</td>\n",
       "      <td>13986.37</td>\n",
       "    </tr>\n",
       "    <tr>\n",
       "      <th>26</th>\n",
       "      <td>USA</td>\n",
       "      <td>1006</td>\n",
       "      <td>13639.66</td>\n",
       "    </tr>\n",
       "    <tr>\n",
       "      <th>24</th>\n",
       "      <td>USA</td>\n",
       "      <td>1004</td>\n",
       "      <td>12851.42</td>\n",
       "    </tr>\n",
       "  </tbody>\n",
       "</table>\n",
       "</div>"
      ],
      "text/plain": [
       "   Country  Product_ID  Total Sale\n",
       "1   Canada        1001    15729.05\n",
       "6   Canada        1006    15256.10\n",
       "7   Canada        1007    14632.13\n",
       "0   Canada        1000    14488.78\n",
       "4   Canada        1004    13562.32\n",
       "10      UK        1000     4162.93\n",
       "12      UK        1002     3267.72\n",
       "19      UK        1009     2707.08\n",
       "18      UK        1008     2296.36\n",
       "14      UK        1004     2293.45\n",
       "22     USA        1002    18777.45\n",
       "27     USA        1007    14746.72\n",
       "23     USA        1003    13986.37\n",
       "26     USA        1006    13639.66\n",
       "24     USA        1004    12851.42"
      ]
     },
     "execution_count": 48,
     "metadata": {},
     "output_type": "execute_result"
    }
   ],
   "source": [
    "top_5_products_by_country(df_combined)"
   ]
  }
 ],
 "metadata": {
  "kernelspec": {
   "display_name": "Python 3",
   "language": "python",
   "name": "python3"
  },
  "language_info": {
   "codemirror_mode": {
    "name": "ipython",
    "version": 3
   },
   "file_extension": ".py",
   "mimetype": "text/x-python",
   "name": "python",
   "nbconvert_exporter": "python",
   "pygments_lexer": "ipython3",
   "version": "3.11.9"
  }
 },
 "nbformat": 4,
 "nbformat_minor": 5
}
